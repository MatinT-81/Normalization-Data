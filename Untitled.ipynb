{
 "cells": [
  {
   "cell_type": "code",
   "execution_count": 1,
   "id": "7f93d26e-70df-4fae-847b-92e379905666",
   "metadata": {},
   "outputs": [],
   "source": [
    "import pandas as pd"
   ]
  },
  {
   "cell_type": "code",
   "execution_count": 3,
   "id": "2a8ab5ab-0c6e-4e13-b04f-0340b830c353",
   "metadata": {},
   "outputs": [],
   "source": [
    "data = {\n",
    "    \"سن\": [25, 30, 22, 35, 28],\n",
    "    \"قد (cm)\": [175, 180, 168, 182, 176],\n",
    "    \"وزن (kg)\": [70, 80, 65, 85, 75]\n",
    "}"
   ]
  },
  {
   "cell_type": "code",
   "execution_count": 5,
   "id": "88604301-8334-464c-9c6a-c677d5e446c4",
   "metadata": {},
   "outputs": [],
   "source": [
    "df = pd.DataFrame(data)"
   ]
  },
  {
   "cell_type": "code",
   "execution_count": 7,
   "id": "787b488c-207f-4e21-a5f0-661f74e9b79a",
   "metadata": {},
   "outputs": [],
   "source": [
    "df[\"سن نرمال\"] = (df[\"سن\"] - df[\"سن\"].min()) / (df[\"سن\"].max() - df[\"سن\"].min())\n",
    "df[\"قد نرمال\"] = (df[\"قد (cm)\"] - df[\"قد (cm)\"].min()) / (df[\"قد (cm)\"].max() - df[\"قد (cm)\"].min())\n",
    "df[\"وزن نرمال\"] = (df[\"وزن (kg)\"] - df[\"وزن (kg)\"].min()) / (df[\"وزن (kg)\"].max() - df[\"وزن (kg)\"].min())"
   ]
  },
  {
   "cell_type": "code",
   "execution_count": 8,
   "id": "134a24f9-0e75-420c-8561-fe7a07fede0a",
   "metadata": {},
   "outputs": [],
   "source": [
    "file_path = \"output.xlsx\"\n",
    "df.to_excel(file_path, index=False)"
   ]
  }
 ],
 "metadata": {
  "kernelspec": {
   "display_name": "Python 3 (ipykernel)",
   "language": "python",
   "name": "python3"
  },
  "language_info": {
   "codemirror_mode": {
    "name": "ipython",
    "version": 3
   },
   "file_extension": ".py",
   "mimetype": "text/x-python",
   "name": "python",
   "nbconvert_exporter": "python",
   "pygments_lexer": "ipython3",
   "version": "3.12.3"
  }
 },
 "nbformat": 4,
 "nbformat_minor": 5
}
